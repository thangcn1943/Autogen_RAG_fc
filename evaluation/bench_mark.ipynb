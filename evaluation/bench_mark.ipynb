{
 "cells": [
  {
   "cell_type": "code",
   "execution_count": 19,
   "metadata": {},
   "outputs": [],
   "source": [
    "import pandas as pd\n",
    "import matplotlib.pyplot as plt"
   ]
  },
  {
   "cell_type": "code",
   "execution_count": 1,
   "metadata": {},
   "outputs": [],
   "source": [
    "model_names = [\n",
    "        \"thang1943/bkcare-embed-v2\",\n",
    "        \"thang1943/vietnamese-bi-encoder-v2\",\n",
    "        \"thang1943/vietnamese-sbert-v2\",\n",
    "]\n"
   ]
  },
  {
   "cell_type": "code",
   "execution_count": 2,
   "metadata": {},
   "outputs": [
    {
     "name": "stderr",
     "output_type": "stream",
     "text": [
      "/home/duyhoang/.local/lib/python3.10/site-packages/tqdm/auto.py:21: TqdmWarning: IProgress not found. Please update jupyter and ipywidgets. See https://ipywidgets.readthedocs.io/en/stable/user_install.html\n",
      "  from .autonotebook import tqdm as notebook_tqdm\n"
     ]
    }
   ],
   "source": [
    "import torch\n",
    "from sentence_transformers import SentenceTransformer\n",
    "from sentence_transformers.evaluation import (\n",
    "    InformationRetrievalEvaluator,\n",
    "    SequentialEvaluator,\n",
    ")\n",
    "from sentence_transformers.util import cos_sim\n",
    "from datasets import load_dataset, concatenate_datasets\n",
    "from sentence_transformers import SentenceTransformerModelCardData, SentenceTransformer\n",
    "from sentence_transformers.losses import MatryoshkaLoss, MultipleNegativesRankingLoss\n",
    "from sentence_transformers import SentenceTransformerTrainingArguments\n",
    "from sentence_transformers.training_args import BatchSamplers\n",
    "\n",
    "from sentence_transformers import SentenceTransformerTrainer\n",
    "import json"
   ]
  },
  {
   "cell_type": "code",
   "execution_count": 3,
   "metadata": {},
   "outputs": [],
   "source": [
    "from datasets import load_dataset\n",
    "\n",
    "dataset = load_dataset(\"meandyou200175/dataset_full_fixed\", split=\"train\")\n",
    "dataset = dataset.rename_column(\"pos\", \"positive\")\n",
    "dataset = dataset.rename_column(\"neg\", \"negative\")\n",
    "\n",
    "def flatten_columns(example):\n",
    "    example['pos'] = example['pos'][0] if isinstance(example['pos'], list) else example['pos']\n",
    "    example['neg'] = example['neg'][0] if isinstance(example['neg'], list) else example['neg']\n",
    "    return example\n",
    "\n",
    "dataset = dataset.train_test_split(test_size=0.1)\n",
    "\n",
    "train_dataset = dataset['train']\n",
    "\n",
    "eval_dataset = dataset['test']\n",
    "\n",
    "train_dataset = train_dataset.train_test_split(test_size= 1 / 9)['train']\n",
    "test_dataset = train_dataset.train_test_split(test_size= 1 / 9)['test']"
   ]
  },
  {
   "cell_type": "code",
   "execution_count": 4,
   "metadata": {},
   "outputs": [],
   "source": [
    "corpus = {}\n",
    "queries = {}\n",
    "relevant_docs = {}\n",
    "\n",
    "for idx, data in enumerate(eval_dataset):\n",
    "    query_id = f\"{2*idx}\"\n",
    "    positive_id = f\"{2*idx+1}\"\n",
    "\n",
    "    \n",
    "    # Add to corpus\n",
    "    corpus[positive_id] = data['positive']\n",
    "\n",
    "    \n",
    "    # Add to queries\n",
    "    queries[query_id] = data['query']\n",
    "    \n",
    "    # Map relevant docs\n",
    "    relevant_docs[query_id] = [positive_id]"
   ]
  },
  {
   "cell_type": "code",
   "execution_count": 5,
   "metadata": {},
   "outputs": [],
   "source": [
    "ir_evaluator = InformationRetrievalEvaluator(\n",
    "    queries=queries,\n",
    "    corpus=corpus,\n",
    "    relevant_docs=relevant_docs,\n",
    "    name=f\"dim_{768}\",\n",
    "    truncate_dim=768,  # Truncate the embeddings to a certain dimension\n",
    "    score_functions={\"cosine\": cos_sim},\n",
    ")"
   ]
  },
  {
   "cell_type": "code",
   "execution_count": 6,
   "metadata": {},
   "outputs": [],
   "source": [
    "scores = []"
   ]
  },
  {
   "cell_type": "code",
   "execution_count": 7,
   "metadata": {},
   "outputs": [],
   "source": [
    "for model_id in model_names:\n",
    "    model = SentenceTransformer(\n",
    "        model_id,\n",
    "        device=\"cuda\" if torch.cuda.is_available() else \"cpu\",\n",
    "        model_kwargs={\"attn_implementation\": \"sdpa\"},\n",
    "    )\n",
    "\n",
    "    result = ir_evaluator(model)\n",
    "    scores.append(result)"
   ]
  },
  {
   "cell_type": "code",
   "execution_count": 8,
   "metadata": {},
   "outputs": [
    {
     "name": "stdout",
     "output_type": "stream",
     "text": [
      "[{'dim_768_cosine_accuracy@1': 0.595872899926954, 'dim_768_cosine_accuracy@3': 0.7342951059167275, 'dim_768_cosine_accuracy@5': 0.7870708546384222, 'dim_768_cosine_accuracy@10': 0.8489773557341125, 'dim_768_cosine_precision@1': 0.595872899926954, 'dim_768_cosine_precision@3': 0.24476503530557583, 'dim_768_cosine_precision@5': 0.15741417092768445, 'dim_768_cosine_precision@10': 0.08489773557341124, 'dim_768_cosine_recall@1': 0.595872899926954, 'dim_768_cosine_recall@3': 0.7342951059167275, 'dim_768_cosine_recall@5': 0.7870708546384222, 'dim_768_cosine_recall@10': 0.8489773557341125, 'dim_768_cosine_ndcg@10': 0.7196881790090148, 'dim_768_cosine_mrr@10': 0.6786520835507334, 'dim_768_cosine_map@100': 0.684264196034238}, {'dim_768_cosine_accuracy@1': 0.633308984660336, 'dim_768_cosine_accuracy@3': 0.7529218407596786, 'dim_768_cosine_accuracy@5': 0.7985756026296567, 'dim_768_cosine_accuracy@10': 0.8601168736303871, 'dim_768_cosine_precision@1': 0.633308984660336, 'dim_768_cosine_precision@3': 0.25097394691989283, 'dim_768_cosine_precision@5': 0.15971512052593131, 'dim_768_cosine_precision@10': 0.08601168736303871, 'dim_768_cosine_recall@1': 0.633308984660336, 'dim_768_cosine_recall@3': 0.7529218407596786, 'dim_768_cosine_recall@5': 0.7985756026296567, 'dim_768_cosine_recall@10': 0.8601168736303871, 'dim_768_cosine_ndcg@10': 0.7421724793766461, 'dim_768_cosine_mrr@10': 0.7050035073683733, 'dim_768_cosine_map@100': 0.7102419554065338}, {'dim_768_cosine_accuracy@1': 0.6130387143900657, 'dim_768_cosine_accuracy@3': 0.7465303140978816, 'dim_768_cosine_accuracy@5': 0.7943754565376187, 'dim_768_cosine_accuracy@10': 0.8506208911614317, 'dim_768_cosine_precision@1': 0.6130387143900657, 'dim_768_cosine_precision@3': 0.2488434380326272, 'dim_768_cosine_precision@5': 0.15887509130752375, 'dim_768_cosine_precision@10': 0.08506208911614316, 'dim_768_cosine_recall@1': 0.6130387143900657, 'dim_768_cosine_recall@3': 0.7465303140978816, 'dim_768_cosine_recall@5': 0.7943754565376187, 'dim_768_cosine_recall@10': 0.8506208911614317, 'dim_768_cosine_ndcg@10': 0.7294617357540044, 'dim_768_cosine_mrr@10': 0.6909735990817085, 'dim_768_cosine_map@100': 0.6966597668132908}]\n"
     ]
    }
   ],
   "source": [
    "print(scores)"
   ]
  },
  {
   "cell_type": "code",
   "execution_count": 14,
   "metadata": {},
   "outputs": [],
   "source": [
    "for model,score in zip(model_names, scores):\n",
    "    score['model_name'] = model"
   ]
  },
  {
   "cell_type": "code",
   "execution_count": 15,
   "metadata": {},
   "outputs": [
    {
     "data": {
      "text/plain": [
       "[{'dim_768_cosine_accuracy@1': 0.595872899926954,\n",
       "  'dim_768_cosine_accuracy@3': 0.7342951059167275,\n",
       "  'dim_768_cosine_accuracy@5': 0.7870708546384222,\n",
       "  'dim_768_cosine_accuracy@10': 0.8489773557341125,\n",
       "  'dim_768_cosine_precision@1': 0.595872899926954,\n",
       "  'dim_768_cosine_precision@3': 0.24476503530557583,\n",
       "  'dim_768_cosine_precision@5': 0.15741417092768445,\n",
       "  'dim_768_cosine_precision@10': 0.08489773557341124,\n",
       "  'dim_768_cosine_recall@1': 0.595872899926954,\n",
       "  'dim_768_cosine_recall@3': 0.7342951059167275,\n",
       "  'dim_768_cosine_recall@5': 0.7870708546384222,\n",
       "  'dim_768_cosine_recall@10': 0.8489773557341125,\n",
       "  'dim_768_cosine_ndcg@10': 0.7196881790090148,\n",
       "  'dim_768_cosine_mrr@10': 0.6786520835507334,\n",
       "  'dim_768_cosine_map@100': 0.684264196034238,\n",
       "  'model_name': 'thang1943/bkcare-embed-v2'},\n",
       " {'dim_768_cosine_accuracy@1': 0.633308984660336,\n",
       "  'dim_768_cosine_accuracy@3': 0.7529218407596786,\n",
       "  'dim_768_cosine_accuracy@5': 0.7985756026296567,\n",
       "  'dim_768_cosine_accuracy@10': 0.8601168736303871,\n",
       "  'dim_768_cosine_precision@1': 0.633308984660336,\n",
       "  'dim_768_cosine_precision@3': 0.25097394691989283,\n",
       "  'dim_768_cosine_precision@5': 0.15971512052593131,\n",
       "  'dim_768_cosine_precision@10': 0.08601168736303871,\n",
       "  'dim_768_cosine_recall@1': 0.633308984660336,\n",
       "  'dim_768_cosine_recall@3': 0.7529218407596786,\n",
       "  'dim_768_cosine_recall@5': 0.7985756026296567,\n",
       "  'dim_768_cosine_recall@10': 0.8601168736303871,\n",
       "  'dim_768_cosine_ndcg@10': 0.7421724793766461,\n",
       "  'dim_768_cosine_mrr@10': 0.7050035073683733,\n",
       "  'dim_768_cosine_map@100': 0.7102419554065338,\n",
       "  'model_name': 'thang1943/vietnamese-bi-encoder-v2'},\n",
       " {'dim_768_cosine_accuracy@1': 0.6130387143900657,\n",
       "  'dim_768_cosine_accuracy@3': 0.7465303140978816,\n",
       "  'dim_768_cosine_accuracy@5': 0.7943754565376187,\n",
       "  'dim_768_cosine_accuracy@10': 0.8506208911614317,\n",
       "  'dim_768_cosine_precision@1': 0.6130387143900657,\n",
       "  'dim_768_cosine_precision@3': 0.2488434380326272,\n",
       "  'dim_768_cosine_precision@5': 0.15887509130752375,\n",
       "  'dim_768_cosine_precision@10': 0.08506208911614316,\n",
       "  'dim_768_cosine_recall@1': 0.6130387143900657,\n",
       "  'dim_768_cosine_recall@3': 0.7465303140978816,\n",
       "  'dim_768_cosine_recall@5': 0.7943754565376187,\n",
       "  'dim_768_cosine_recall@10': 0.8506208911614317,\n",
       "  'dim_768_cosine_ndcg@10': 0.7294617357540044,\n",
       "  'dim_768_cosine_mrr@10': 0.6909735990817085,\n",
       "  'dim_768_cosine_map@100': 0.6966597668132908,\n",
       "  'model_name': 'thang1943/vietnamese-sbert-v2'}]"
      ]
     },
     "execution_count": 15,
     "metadata": {},
     "output_type": "execute_result"
    }
   ],
   "source": [
    "scores"
   ]
  },
  {
   "cell_type": "code",
   "execution_count": null,
   "metadata": {},
   "outputs": [
    {
     "data": {
      "text/html": [
       "<style type=\"text/css\">\n",
       "#T_5eaa7_row1_col0, #T_5eaa7_row1_col1, #T_5eaa7_row1_col2, #T_5eaa7_row1_col3, #T_5eaa7_row1_col4, #T_5eaa7_row1_col5, #T_5eaa7_row1_col6, #T_5eaa7_row1_col7, #T_5eaa7_row1_col8, #T_5eaa7_row1_col9, #T_5eaa7_row1_col10, #T_5eaa7_row1_col11, #T_5eaa7_row1_col12, #T_5eaa7_row1_col13, #T_5eaa7_row1_col14 {\n",
       "  font-weight: bold;\n",
       "}\n",
       "</style>\n",
       "<table id=\"T_5eaa7\">\n",
       "  <thead>\n",
       "    <tr>\n",
       "      <th class=\"blank level0\" >&nbsp;</th>\n",
       "      <th id=\"T_5eaa7_level0_col0\" class=\"col_heading level0 col0\" >dim_768_cosine_accuracy@1</th>\n",
       "      <th id=\"T_5eaa7_level0_col1\" class=\"col_heading level0 col1\" >dim_768_cosine_accuracy@3</th>\n",
       "      <th id=\"T_5eaa7_level0_col2\" class=\"col_heading level0 col2\" >dim_768_cosine_accuracy@5</th>\n",
       "      <th id=\"T_5eaa7_level0_col3\" class=\"col_heading level0 col3\" >dim_768_cosine_accuracy@10</th>\n",
       "      <th id=\"T_5eaa7_level0_col4\" class=\"col_heading level0 col4\" >dim_768_cosine_precision@1</th>\n",
       "      <th id=\"T_5eaa7_level0_col5\" class=\"col_heading level0 col5\" >dim_768_cosine_precision@3</th>\n",
       "      <th id=\"T_5eaa7_level0_col6\" class=\"col_heading level0 col6\" >dim_768_cosine_precision@5</th>\n",
       "      <th id=\"T_5eaa7_level0_col7\" class=\"col_heading level0 col7\" >dim_768_cosine_precision@10</th>\n",
       "      <th id=\"T_5eaa7_level0_col8\" class=\"col_heading level0 col8\" >dim_768_cosine_recall@1</th>\n",
       "      <th id=\"T_5eaa7_level0_col9\" class=\"col_heading level0 col9\" >dim_768_cosine_recall@3</th>\n",
       "      <th id=\"T_5eaa7_level0_col10\" class=\"col_heading level0 col10\" >dim_768_cosine_recall@5</th>\n",
       "      <th id=\"T_5eaa7_level0_col11\" class=\"col_heading level0 col11\" >dim_768_cosine_recall@10</th>\n",
       "      <th id=\"T_5eaa7_level0_col12\" class=\"col_heading level0 col12\" >dim_768_cosine_ndcg@10</th>\n",
       "      <th id=\"T_5eaa7_level0_col13\" class=\"col_heading level0 col13\" >dim_768_cosine_mrr@10</th>\n",
       "      <th id=\"T_5eaa7_level0_col14\" class=\"col_heading level0 col14\" >dim_768_cosine_map@100</th>\n",
       "    </tr>\n",
       "    <tr>\n",
       "      <th class=\"index_name level0\" >model_name</th>\n",
       "      <th class=\"blank col0\" >&nbsp;</th>\n",
       "      <th class=\"blank col1\" >&nbsp;</th>\n",
       "      <th class=\"blank col2\" >&nbsp;</th>\n",
       "      <th class=\"blank col3\" >&nbsp;</th>\n",
       "      <th class=\"blank col4\" >&nbsp;</th>\n",
       "      <th class=\"blank col5\" >&nbsp;</th>\n",
       "      <th class=\"blank col6\" >&nbsp;</th>\n",
       "      <th class=\"blank col7\" >&nbsp;</th>\n",
       "      <th class=\"blank col8\" >&nbsp;</th>\n",
       "      <th class=\"blank col9\" >&nbsp;</th>\n",
       "      <th class=\"blank col10\" >&nbsp;</th>\n",
       "      <th class=\"blank col11\" >&nbsp;</th>\n",
       "      <th class=\"blank col12\" >&nbsp;</th>\n",
       "      <th class=\"blank col13\" >&nbsp;</th>\n",
       "      <th class=\"blank col14\" >&nbsp;</th>\n",
       "    </tr>\n",
       "  </thead>\n",
       "  <tbody>\n",
       "    <tr>\n",
       "      <th id=\"T_5eaa7_level0_row0\" class=\"row_heading level0 row0\" >thang1943/bkcare-embed-v2</th>\n",
       "      <td id=\"T_5eaa7_row0_col0\" class=\"data row0 col0\" >0.595873</td>\n",
       "      <td id=\"T_5eaa7_row0_col1\" class=\"data row0 col1\" >0.734295</td>\n",
       "      <td id=\"T_5eaa7_row0_col2\" class=\"data row0 col2\" >0.787071</td>\n",
       "      <td id=\"T_5eaa7_row0_col3\" class=\"data row0 col3\" >0.848977</td>\n",
       "      <td id=\"T_5eaa7_row0_col4\" class=\"data row0 col4\" >0.595873</td>\n",
       "      <td id=\"T_5eaa7_row0_col5\" class=\"data row0 col5\" >0.244765</td>\n",
       "      <td id=\"T_5eaa7_row0_col6\" class=\"data row0 col6\" >0.157414</td>\n",
       "      <td id=\"T_5eaa7_row0_col7\" class=\"data row0 col7\" >0.084898</td>\n",
       "      <td id=\"T_5eaa7_row0_col8\" class=\"data row0 col8\" >0.595873</td>\n",
       "      <td id=\"T_5eaa7_row0_col9\" class=\"data row0 col9\" >0.734295</td>\n",
       "      <td id=\"T_5eaa7_row0_col10\" class=\"data row0 col10\" >0.787071</td>\n",
       "      <td id=\"T_5eaa7_row0_col11\" class=\"data row0 col11\" >0.848977</td>\n",
       "      <td id=\"T_5eaa7_row0_col12\" class=\"data row0 col12\" >0.719688</td>\n",
       "      <td id=\"T_5eaa7_row0_col13\" class=\"data row0 col13\" >0.678652</td>\n",
       "      <td id=\"T_5eaa7_row0_col14\" class=\"data row0 col14\" >0.684264</td>\n",
       "    </tr>\n",
       "    <tr>\n",
       "      <th id=\"T_5eaa7_level0_row1\" class=\"row_heading level0 row1\" >thang1943/vietnamese-bi-encoder-v2</th>\n",
       "      <td id=\"T_5eaa7_row1_col0\" class=\"data row1 col0\" >0.633309</td>\n",
       "      <td id=\"T_5eaa7_row1_col1\" class=\"data row1 col1\" >0.752922</td>\n",
       "      <td id=\"T_5eaa7_row1_col2\" class=\"data row1 col2\" >0.798576</td>\n",
       "      <td id=\"T_5eaa7_row1_col3\" class=\"data row1 col3\" >0.860117</td>\n",
       "      <td id=\"T_5eaa7_row1_col4\" class=\"data row1 col4\" >0.633309</td>\n",
       "      <td id=\"T_5eaa7_row1_col5\" class=\"data row1 col5\" >0.250974</td>\n",
       "      <td id=\"T_5eaa7_row1_col6\" class=\"data row1 col6\" >0.159715</td>\n",
       "      <td id=\"T_5eaa7_row1_col7\" class=\"data row1 col7\" >0.086012</td>\n",
       "      <td id=\"T_5eaa7_row1_col8\" class=\"data row1 col8\" >0.633309</td>\n",
       "      <td id=\"T_5eaa7_row1_col9\" class=\"data row1 col9\" >0.752922</td>\n",
       "      <td id=\"T_5eaa7_row1_col10\" class=\"data row1 col10\" >0.798576</td>\n",
       "      <td id=\"T_5eaa7_row1_col11\" class=\"data row1 col11\" >0.860117</td>\n",
       "      <td id=\"T_5eaa7_row1_col12\" class=\"data row1 col12\" >0.742172</td>\n",
       "      <td id=\"T_5eaa7_row1_col13\" class=\"data row1 col13\" >0.705004</td>\n",
       "      <td id=\"T_5eaa7_row1_col14\" class=\"data row1 col14\" >0.710242</td>\n",
       "    </tr>\n",
       "    <tr>\n",
       "      <th id=\"T_5eaa7_level0_row2\" class=\"row_heading level0 row2\" >thang1943/vietnamese-sbert-v2</th>\n",
       "      <td id=\"T_5eaa7_row2_col0\" class=\"data row2 col0\" >0.613039</td>\n",
       "      <td id=\"T_5eaa7_row2_col1\" class=\"data row2 col1\" >0.746530</td>\n",
       "      <td id=\"T_5eaa7_row2_col2\" class=\"data row2 col2\" >0.794375</td>\n",
       "      <td id=\"T_5eaa7_row2_col3\" class=\"data row2 col3\" >0.850621</td>\n",
       "      <td id=\"T_5eaa7_row2_col4\" class=\"data row2 col4\" >0.613039</td>\n",
       "      <td id=\"T_5eaa7_row2_col5\" class=\"data row2 col5\" >0.248843</td>\n",
       "      <td id=\"T_5eaa7_row2_col6\" class=\"data row2 col6\" >0.158875</td>\n",
       "      <td id=\"T_5eaa7_row2_col7\" class=\"data row2 col7\" >0.085062</td>\n",
       "      <td id=\"T_5eaa7_row2_col8\" class=\"data row2 col8\" >0.613039</td>\n",
       "      <td id=\"T_5eaa7_row2_col9\" class=\"data row2 col9\" >0.746530</td>\n",
       "      <td id=\"T_5eaa7_row2_col10\" class=\"data row2 col10\" >0.794375</td>\n",
       "      <td id=\"T_5eaa7_row2_col11\" class=\"data row2 col11\" >0.850621</td>\n",
       "      <td id=\"T_5eaa7_row2_col12\" class=\"data row2 col12\" >0.729462</td>\n",
       "      <td id=\"T_5eaa7_row2_col13\" class=\"data row2 col13\" >0.690974</td>\n",
       "      <td id=\"T_5eaa7_row2_col14\" class=\"data row2 col14\" >0.696660</td>\n",
       "    </tr>\n",
       "  </tbody>\n",
       "</table>\n"
      ],
      "text/plain": [
       "<pandas.io.formats.style.Styler at 0x7e1bb736a890>"
      ]
     },
     "execution_count": 23,
     "metadata": {},
     "output_type": "execute_result"
    },
    {
     "ename": "",
     "evalue": "",
     "output_type": "error",
     "traceback": [
      "\u001b[1;31mThe Kernel crashed while executing code in the current cell or a previous cell. \n",
      "\u001b[1;31mPlease review the code in the cell(s) to identify a possible cause of the failure. \n",
      "\u001b[1;31mClick <a href='https://aka.ms/vscodeJupyterKernelCrash'>here</a> for more info. \n",
      "\u001b[1;31mView Jupyter <a href='command:jupyter.viewOutput'>log</a> for further details."
     ]
    }
   ],
   "source": [
    "\n",
    "df = pd.DataFrame(scores)\n",
    "\n",
    "df.set_index('model_name', inplace=True)\n",
    "\n",
    "def highlight_max(s):\n",
    "    is_max = s == s.max()\n",
    "    return ['font-weight: bold' if v else '' for v in is_max]\n",
    "\n",
    "df_styled = df.style.apply(highlight_max, axis=0)\n",
    "\n",
    "df_styled"
   ]
  }
 ],
 "metadata": {
  "kernelspec": {
   "display_name": "thangcn",
   "language": "python",
   "name": "python3"
  },
  "language_info": {
   "codemirror_mode": {
    "name": "ipython",
    "version": 3
   },
   "file_extension": ".py",
   "mimetype": "text/x-python",
   "name": "python",
   "nbconvert_exporter": "python",
   "pygments_lexer": "ipython3",
   "version": "3.10.16"
  }
 },
 "nbformat": 4,
 "nbformat_minor": 2
}
