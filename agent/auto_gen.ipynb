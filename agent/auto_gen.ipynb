{
 "cells": [
  {
   "cell_type": "code",
   "execution_count": null,
   "metadata": {},
   "outputs": [],
   "source": [
    "config_list = [\n",
    "    {\n",
    "        \"model\": \"gpt-4-1106-preview\",\n",
    "        \"api_key\": \"openai_api\",\n",
    "    }\n",
    "]\n",
    "\n",
    "llm_config_proxy = {\n",
    "    \"seed\": 42,  # change the seed for different trials\n",
    "    \"temperature\": 0,\n",
    "    \"config_list\": config_list,\n",
    "    \"request_timeout\": 600\n",
    "}"
   ]
  },
  {
   "cell_type": "code",
   "execution_count": null,
   "metadata": {},
   "outputs": [],
   "source": [
    "llm_config_assistant = {\n",
    "    \"Seed\" : 42,\n",
    "    \"temperature\": 0,\n",
    "        \"functions\": [\n",
    "        {\n",
    "            \"name\": \"answer_PDF_question\",\n",
    "            \"description\": \"Answer any PDF related questions\",\n",
    "            \"parameters\": {\n",
    "                \"type\": \"object\",\n",
    "                \"properties\": {\n",
    "                    \"question\": {\n",
    "                        \"type\": \"string\",\n",
    "                        \"description\": \"The question to ask in relation to PDF\",\n",
    "                    }\n",
    "                },\n",
    "                \"required\": [\"question\"],\n",
    "            },\n",
    "            \n",
    "        }\n",
    "    ],\n",
    "    \"config_list\": config_list,\n",
    "    \"timeout\": 120,\n",
    "}"
   ]
  },
  {
   "cell_type": "code",
   "execution_count": null,
   "metadata": {},
   "outputs": [],
   "source": [
    "assistant = autogen.AssistantAgent(\n",
    "            name=\"assistant\",\n",
    "            llm_config=llm_config_assistant,\n",
    "            system_message=\"\"\"You are a helpful assistant, Answer the question \n",
    "                              based on the context. Keep the answer accurate. \n",
    "                              Respond \"Unsure about answer\" if not sure about \n",
    "                              the answer.\"\"\"\n",
    "            \n",
    "        )"
   ]
  }
 ],
 "metadata": {
  "language_info": {
   "name": "python"
  }
 },
 "nbformat": 4,
 "nbformat_minor": 2
}
