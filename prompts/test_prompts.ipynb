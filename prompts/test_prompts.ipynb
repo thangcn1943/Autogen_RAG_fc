{
 "cells": [
  {
   "cell_type": "code",
   "execution_count": 1,
   "metadata": {},
   "outputs": [],
   "source": [
    "import json"
   ]
  },
  {
   "cell_type": "code",
   "execution_count": 2,
   "metadata": {},
   "outputs": [],
   "source": [
    "with open('tools.json', 'r') as f:\n",
    "    tools = json.load(f)"
   ]
  },
  {
   "cell_type": "code",
   "execution_count": 3,
   "metadata": {},
   "outputs": [
    {
     "data": {
      "text/plain": [
       "[{'type': 'function',\n",
       "  'function': {'name': 'book_appointment',\n",
       "   'description': 'Trích xuất thông tin từ câu hỏi của người dùng để đặt lịch khám bệnh, yêu cầu các thông tin như họ và tên, số điện thoại, ngày giờ khám, chuyên khoa, bác sĩ nếu có.',\n",
       "   'parameters': {'type': 'object',\n",
       "    'properties': {'query': {'type': 'string',\n",
       "      'description': 'Câu hỏi của người dùng về đặt lịch khám bệnh, có thể bao gồm thông tin về ngày giờ, bác sĩ, chuyên khoa.'}},\n",
       "    'required': ['query']}}},\n",
       " {'type': 'function',\n",
       "  'function': {'name': 'rag_price',\n",
       "   'description': 'Truy xuất thông tin về giá các dịch vụ y tế từ cơ sở dữ liệu vector hóa và cung cấp câu trả lời phù hợp.',\n",
       "   'parameters': {'type': 'object',\n",
       "    'properties': {'question': {'type': 'string',\n",
       "      'description': 'Câu hỏi của người dùng liên quan đến giá dịch vụ y tế.'}},\n",
       "    'required': ['question']}}},\n",
       " {'type': 'function',\n",
       "  'function': {'name': 'rag_doctor_info',\n",
       "   'description': 'Truy xuất thông tin chi tiết về bác sĩ từ cơ sở dữ liệu vector hóa và cung cấp câu trả lời phù hợp.',\n",
       "   'parameters': {'type': 'object',\n",
       "    'properties': {'question': {'type': 'string',\n",
       "      'description': 'Câu hỏi của người dùng về thông tin bác sĩ, bao gồm chuyên môn, kinh nghiệm, bệnh viện làm việc, v.v.'}},\n",
       "    'required': ['question']}}},\n",
       " {'type': 'function',\n",
       "  'function': {'name': 'rag_medical',\n",
       "   'description': 'Truy xuất thông tin y khoa từ cơ sở dữ liệu vector hóa để hỗ trợ người dùng về bệnh lý, triệu chứng, phác đồ điều trị, v.v.',\n",
       "   'parameters': {'type': 'object',\n",
       "    'properties': {'question': {'type': 'string',\n",
       "      'description': 'Câu hỏi của người dùng về thông tin y khoa như bệnh lý, triệu chứng, phác đồ điều trị, thuốc, v.v.'}},\n",
       "    'required': ['question']}}}]"
      ]
     },
     "execution_count": 3,
     "metadata": {},
     "output_type": "execute_result"
    }
   ],
   "source": [
    "tools"
   ]
  },
  {
   "cell_type": "code",
   "execution_count": 6,
   "metadata": {},
   "outputs": [
    {
     "name": "stdout",
     "output_type": "stream",
     "text": [
      "book_appointment\n",
      "rag_price\n",
      "rag_doctor_info\n",
      "rag_medical\n"
     ]
    }
   ],
   "source": [
    "for tool in tools:\n",
    "    print(tool['function']['name'])"
   ]
  },
  {
   "cell_type": "code",
   "execution_count": 16,
   "metadata": {},
   "outputs": [
    {
     "name": "stdout",
     "output_type": "stream",
     "text": [
      "/mnt/data1tb/thangcn/datnv2\n"
     ]
    }
   ],
   "source": [
    "%cd .."
   ]
  },
  {
   "cell_type": "code",
   "execution_count": 22,
   "metadata": {},
   "outputs": [],
   "source": [
    "from service.func_for_fc import rag_doctor_info, rag_medical, rag_price, book_appoinment"
   ]
  },
  {
   "cell_type": "code",
   "execution_count": 23,
   "metadata": {},
   "outputs": [],
   "source": [
    "tools_available = {\n",
    "    tool['function']['name']: globals()[tool['function']['name']] for tool in tools\n",
    "}"
   ]
  },
  {
   "cell_type": "code",
   "execution_count": 24,
   "metadata": {},
   "outputs": [
    {
     "name": "stdout",
     "output_type": "stream",
     "text": [
      "{'book_appointment': <function book_appointment at 0x70c39c7791b0>, 'rag_price': <function rag_price at 0x70c25517bb50>, 'rag_doctor_info': <function rag_doctor_info at 0x70c25517bbe0>, 'rag_medical': <function rag_medical at 0x70c25517bc70>}\n"
     ]
    }
   ],
   "source": [
    "print(tools_available)"
   ]
  }
 ],
 "metadata": {
  "kernelspec": {
   "display_name": "thangcn",
   "language": "python",
   "name": "python3"
  },
  "language_info": {
   "codemirror_mode": {
    "name": "ipython",
    "version": 3
   },
   "file_extension": ".py",
   "mimetype": "text/x-python",
   "name": "python",
   "nbconvert_exporter": "python",
   "pygments_lexer": "ipython3",
   "version": "3.10.16"
  }
 },
 "nbformat": 4,
 "nbformat_minor": 2
}
